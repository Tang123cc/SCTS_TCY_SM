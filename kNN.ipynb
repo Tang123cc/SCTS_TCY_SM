{
 "cells": [
  {
   "cell_type": "code",
   "execution_count": null,
   "metadata": {},
   "outputs": [],
   "source": [
    "from sklearn.neighbors import KNeighborsClassifier\n",
    "from sklearn.model_selection import cross_val_predict\n",
    "from sklearn.metrics import confusion_matrix, accuracy_score, precision_score, recall_score, f1_score"
   ]
  },
  {
   "cell_type": "code",
   "execution_count": null,
   "metadata": {},
   "outputs": [],
   "source": [
    "import pandas as pd\n",
    "data = pd.read_excel('GFA_Dataset.xlsx')"
   ]
  },
  {
   "cell_type": "code",
   "execution_count": null,
   "metadata": {},
   "outputs": [],
   "source": [
    "X = data.drop('label', axis=1)\n",
    "y_true = data['label']"
   ]
  },
  {
   "cell_type": "code",
   "execution_count": null,
   "metadata": {},
   "outputs": [],
   "source": [
    "from sklearn.model_selection import train_test_split\n",
    "X_train,X_test,y_train,y_test = train_test_split(X,y_true,test_size=0.10)"
   ]
  },
  {
   "cell_type": "code",
   "execution_count": null,
   "metadata": {},
   "outputs": [],
   "source": [
    "from sklearn.model_selection import GridSearchCV\n",
    "\n",
    "# param_grid = {\n",
    "#     'n_neighbors': [3, 5, 7],\n",
    "#     'weights': ['uniform', 'distance'],\n",
    "#     'metric': ['euclidean', 'manhattan'],\n",
    "#     'algorithm': ['auto', 'ball_tree', 'kd_tree', 'brute']\n",
    "# }\n",
    "\n",
    "model = KNeighborsClassifier(algorithm='ball_tree', metric='manhattan', n_neighbors = 5, weights = 'distance')\n",
    "\n",
    "# grid_search = GridSearchCV(estimator=model, param_grid=param_grid, cv=10)\n",
    "# grid_search.fit(X_train, y_train)\n",
    "\n",
    "# print(\"最优参数组合：\", grid_search.best_params_)\n",
    "# print(\"最优得分：\", grid_search.best_score_)"
   ]
  },
  {
   "cell_type": "code",
   "execution_count": null,
   "metadata": {},
   "outputs": [],
   "source": [
    "from sklearn.metrics import confusion_matrix, classification_report\n",
    "from sklearn.model_selection import train_test_split, cross_val_predict, KFold\n",
    "kf = KFold(n_splits=10, shuffle=True)\n",
    "confusion_matrices = []\n",
    "classification_reports = []"
   ]
  },
  {
   "cell_type": "code",
   "execution_count": null,
   "metadata": {},
   "outputs": [],
   "source": [
    "for train_index, test_index in kf.split(X):\n",
    "    X_train, X_test = X.iloc[train_index], X.iloc[test_index]\n",
    "    y_train, y_test = y_true.iloc[train_index], y_true.iloc[test_index]\n",
    "\n",
    "    model.fit(X_train, y_train)\n",
    "\n",
    "    y_pred = model.predict(X_test)\n",
    "\n",
    "    cm = confusion_matrix(y_test, y_pred)\n",
    "    cr = classification_report(y_test, y_pred)\n",
    "\n",
    "    confusion_matrices.append(cm)\n",
    "    classification_reports.append(cr)"
   ]
  },
  {
   "cell_type": "code",
   "execution_count": null,
   "metadata": {},
   "outputs": [],
   "source": [
    "for i, (cm, cr) in enumerate(zip(confusion_matrices, classification_reports)):\n",
    "    print(f\"Fold {i+1}:\")\n",
    "    print(\"Confusion Matrix:\")\n",
    "    print(cm)\n",
    "    print(\"Classification Report:\")\n",
    "    print(cr)\n",
    "    print(\"-\" * 50)"
   ]
  },
  {
   "cell_type": "code",
   "execution_count": null,
   "metadata": {},
   "outputs": [],
   "source": [
    "import numpy as np\n",
    "average_cm = np.mean(confusion_matrices, axis=0)\n",
    "y_pred_all = cross_val_predict(model, X, y_true)\n",
    "average_cr = classification_report(y_true, y_pred_all)\n",
    "print(\"Average Confusion Matrix:\")\n",
    "print(average_cm)\n",
    "print('Accary:', (cm[1,1]+cm[0,0])/(cm[1,1]+cm[0,1]+cm[0,0]+cm[1,0]))"
   ]
  },
  {
   "cell_type": "code",
   "execution_count": null,
   "metadata": {},
   "outputs": [],
   "source": [
    "tn, fp, fn, tp = average_cm.ravel()\n",
    "\n",
    "print(\"True Positive (TP):\", tp)\n",
    "print(\"True Negative (TN):\", tn)\n",
    "print(\"False Positive (FP):\", fp)\n",
    "print(\"False Negative (FN):\", fn)\n",
    "print(\"True Positive Rate (TPR):\", tp/ (tp + fn))\n",
    "print(\"False Positive Rate (FPR):\", fp/ (tn + fp))\n",
    "print(\"True Negative Rate (TNR):\",  tn / (tn + fp))\n",
    "print(\"False Negative Rate (FNR):\", fn / (fn + tp))"
   ]
  },
  {
   "cell_type": "code",
   "execution_count": null,
   "metadata": {},
   "outputs": [],
   "source": []
  }
 ],
 "metadata": {
  "kernelspec": {
   "display_name": "base",
   "language": "python",
   "name": "python3"
  },
  "language_info": {
   "codemirror_mode": {
    "name": "ipython",
    "version": 3
   },
   "file_extension": ".py",
   "mimetype": "text/x-python",
   "name": "python",
   "nbconvert_exporter": "python",
   "pygments_lexer": "ipython3",
   "version": "3.8.3"
  },
  "orig_nbformat": 4
 },
 "nbformat": 4,
 "nbformat_minor": 2
}
