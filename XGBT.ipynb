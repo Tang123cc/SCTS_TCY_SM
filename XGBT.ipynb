{
 "cells": [
  {
   "cell_type": "code",
   "execution_count": 9,
   "metadata": {},
   "outputs": [],
   "source": [
    "import numpy as np\n",
    "import pandas as pd\n",
    "import xgboost as xgb\n",
    "from sklearn.metrics import confusion_matrix, classification_report\n",
    "from sklearn.model_selection import train_test_split, cross_val_predict, KFold"
   ]
  },
  {
   "cell_type": "code",
   "execution_count": 10,
   "metadata": {},
   "outputs": [],
   "source": [
    "data = pd.read_excel('GFA_Dataset.xlsx')"
   ]
  },
  {
   "cell_type": "code",
   "execution_count": 11,
   "metadata": {},
   "outputs": [],
   "source": [
    "X = data.drop('label', axis=1)\n",
    "y_true = data['label']\n",
    "\n",
    "from sklearn.model_selection import train_test_split\n",
    "X_train,X_test,y_train,y_test = train_test_split(X,y_true,test_size=0.10)"
   ]
  },
  {
   "cell_type": "code",
   "execution_count": 13,
   "metadata": {},
   "outputs": [],
   "source": [
    "from sklearn.model_selection import GridSearchCV\n",
    "\n",
    "model = xgb.XGBClassifier(colsample_bytree = 1, eta = 0.3, gamma = 0.1, max_depth = 7, min_child_weight = 1, subsample = 1)\n",
    "\n",
    "# param_grid = {\n",
    "#     'eta': [0.01, 0.1, 0.3], \n",
    "#     'max_depth': [3, 5, 7], \n",
    "#     'subsample': [0.6, 0.8, 1.0], \n",
    "#     'colsample_bytree': [0.6, 0.8, 1.0], \n",
    "#     'gamma': [0, 0.1, 0.2],  \n",
    "#     'min_child_weight': [1, 2, 3], \n",
    "# }\n",
    "\n",
    "# grid_search = GridSearchCV(estimator=model, param_grid=param_grid, cv=10)\n",
    "\n",
    "# grid_search.fit(X_train, y_train)\n",
    "\n",
    "# print(\"最优参数组合：\", grid_search.best_params_)\n",
    "# print(\"最优得分：\", grid_search.best_score_)"
   ]
  },
  {
   "cell_type": "code",
   "execution_count": 14,
   "metadata": {},
   "outputs": [],
   "source": [
    "kf = KFold(n_splits=10, shuffle=True)\n",
    "confusion_matrices = []\n",
    "classification_reports = []"
   ]
  },
  {
   "cell_type": "code",
   "execution_count": 15,
   "metadata": {},
   "outputs": [],
   "source": [
    "for train_index, test_index in kf.split(X):\n",
    "    X_train, X_test = X.iloc[train_index], X.iloc[test_index]\n",
    "    y_train, y_test = y_true.iloc[train_index], y_true.iloc[test_index]\n",
    "\n",
    "    model.fit(X_train, y_train)\n",
    "\n",
    "    y_pred = model.predict(X_test)\n",
    "\n",
    "    cm = confusion_matrix(y_test, y_pred)\n",
    "    cr = classification_report(y_test, y_pred)\n",
    "\n",
    "    confusion_matrices.append(cm)\n",
    "    classification_reports.append(cr)"
   ]
  },
  {
   "cell_type": "code",
   "execution_count": null,
   "metadata": {},
   "outputs": [],
   "source": [
    "for i, (cm, cr) in enumerate(zip(confusion_matrices, classification_reports)):\n",
    "    print(f\"Fold {i+1}:\")\n",
    "    print(\"Confusion Matrix:\")\n",
    "    print(cm)\n",
    "    print(\"Classification Report:\")\n",
    "    print(cr)\n",
    "    print(\"-\" * 50)"
   ]
  },
  {
   "cell_type": "code",
   "execution_count": null,
   "metadata": {},
   "outputs": [],
   "source": [
    "average_cm = np.mean(confusion_matrices, axis=0)\n",
    "y_pred_all = cross_val_predict(model, X, y_true)\n",
    "average_cr = classification_report(y_true, y_pred_all)\n",
    "print(\"Average Confusion Matrix:\")\n",
    "print(average_cm)\n",
    "print('Accary:', (cm[1,1]+cm[0,0])/(cm[1,1]+cm[0,1]+cm[0,0]+cm[1,0]))"
   ]
  },
  {
   "cell_type": "code",
   "execution_count": null,
   "metadata": {},
   "outputs": [],
   "source": [
    "tn, fp, fn, tp = average_cm.ravel()\n",
    "\n",
    "print(\"True Positive (TP):\", tp)\n",
    "print(\"True Negative (TN):\", tn)\n",
    "print(\"False Positive (FP):\", fp)\n",
    "print(\"False Negative (FN):\", fn)\n",
    "print(\"True Positive Rate (TPR):\", tp/ (tp + fn))\n",
    "print(\"False Positive Rate (FPR):\", fp/ (tn + fp))\n",
    "print(\"True Negative Rate (TNR):\",  tn / (tn + fp))\n",
    "print(\"False Negative Rate (FNR):\", fn / (fn + tp))"
   ]
  },
  {
   "cell_type": "code",
   "execution_count": null,
   "metadata": {},
   "outputs": [],
   "source": []
  }
 ],
 "metadata": {
  "kernelspec": {
   "display_name": "base",
   "language": "python",
   "name": "python3"
  },
  "language_info": {
   "codemirror_mode": {
    "name": "ipython",
    "version": 3
   },
   "file_extension": ".py",
   "mimetype": "text/x-python",
   "name": "python",
   "nbconvert_exporter": "python",
   "pygments_lexer": "ipython3",
   "version": "3.8.3"
  },
  "orig_nbformat": 4
 },
 "nbformat": 4,
 "nbformat_minor": 2
}
