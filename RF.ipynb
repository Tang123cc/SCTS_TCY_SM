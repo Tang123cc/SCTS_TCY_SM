{
 "cells": [
  {
   "cell_type": "code",
   "execution_count": 3,
   "metadata": {},
   "outputs": [],
   "source": [
    "from sklearn.ensemble import RandomForestClassifier\n",
    "from sklearn.model_selection import cross_val_predict\n",
    "from sklearn.metrics import confusion_matrix, accuracy_score, precision_score, recall_score, f1_score\n",
    "from sklearn.model_selection import train_test_split"
   ]
  },
  {
   "cell_type": "code",
   "execution_count": 4,
   "metadata": {},
   "outputs": [
    {
     "name": "stdout",
     "output_type": "stream",
     "text": [
      "bootstrap: True\n",
      "ccp_alpha: 0.0\n",
      "class_weight: None\n",
      "criterion: gini\n",
      "max_depth: 4\n",
      "max_features: 0.4\n",
      "max_leaf_nodes: None\n",
      "max_samples: None\n",
      "min_impurity_decrease: 0.0\n",
      "min_samples_leaf: 1\n",
      "min_samples_split: 2\n",
      "min_weight_fraction_leaf: 0.0\n",
      "n_estimators: 100\n",
      "n_jobs: None\n",
      "oob_score: False\n",
      "random_state: None\n",
      "verbose: 0\n",
      "warm_start: False\n"
     ]
    }
   ],
   "source": [
    "model = RandomForestClassifier(n_estimators=100,max_depth=4, max_features=0.4)\n",
    "params = model.get_params()\n",
    "for param, value in params.items():\n",
    "    print(f\"{param}: {value}\")"
   ]
  },
  {
   "cell_type": "code",
   "execution_count": 5,
   "metadata": {},
   "outputs": [],
   "source": [
    "import pandas as pd"
   ]
  },
  {
   "cell_type": "code",
   "execution_count": 6,
   "metadata": {},
   "outputs": [],
   "source": [
    "# data = pd.read_excel('path')\n",
    "data = pd.read_excel('GFA_Dataset.xlsx')"
   ]
  },
  {
   "cell_type": "code",
   "execution_count": 7,
   "metadata": {},
   "outputs": [],
   "source": [
    "X = data.drop('label', axis=1)\n",
    "y_true = data['label']\n",
    "X_train,X_test,y_train,y_test = train_test_split(X,y_true,test_size=0.10)"
   ]
  },
  {
   "cell_type": "code",
   "execution_count": 8,
   "metadata": {},
   "outputs": [],
   "source": [
    "from sklearn.metrics import confusion_matrix, classification_report\n",
    "from sklearn.model_selection import train_test_split, cross_val_predict, KFold\n",
    "kf = KFold(n_splits=10, shuffle=True)\n",
    "confusion_matrices = []\n",
    "classification_reports = []"
   ]
  },
  {
   "cell_type": "code",
   "execution_count": 9,
   "metadata": {},
   "outputs": [],
   "source": [
    "for train_index, test_index in kf.split(X):\n",
    "    X_train, X_test = X.iloc[train_index], X.iloc[test_index]\n",
    "    y_train, y_test = y_true.iloc[train_index], y_true.iloc[test_index]\n",
    "\n",
    "    model.fit(X_train, y_train)\n",
    "\n",
    "    y_pred = model.predict(X_test)\n",
    "\n",
    "    cm = confusion_matrix(y_test, y_pred)\n",
    "    cr = classification_report(y_test, y_pred)\n",
    "\n",
    "    confusion_matrices.append(cm)\n",
    "    classification_reports.append(cr)"
   ]
  },
  {
   "cell_type": "code",
   "execution_count": 10,
   "metadata": {},
   "outputs": [
    {
     "name": "stdout",
     "output_type": "stream",
     "text": [
      "Fold 1:\n",
      "Confusion Matrix:\n",
      "[[  8  99]\n",
      " [  4 585]]\n",
      "Classification Report:\n",
      "              precision    recall  f1-score   support\n",
      "\n",
      "           0       0.67      0.07      0.13       107\n",
      "           1       0.86      0.99      0.92       589\n",
      "\n",
      "    accuracy                           0.85       696\n",
      "   macro avg       0.76      0.53      0.53       696\n",
      "weighted avg       0.83      0.85      0.80       696\n",
      "\n",
      "--------------------------------------------------\n",
      "Fold 2:\n",
      "Confusion Matrix:\n",
      "[[ 16  89]\n",
      " [  0 591]]\n",
      "Classification Report:\n",
      "              precision    recall  f1-score   support\n",
      "\n",
      "           0       1.00      0.15      0.26       105\n",
      "           1       0.87      1.00      0.93       591\n",
      "\n",
      "    accuracy                           0.87       696\n",
      "   macro avg       0.93      0.58      0.60       696\n",
      "weighted avg       0.89      0.87      0.83       696\n",
      "\n",
      "--------------------------------------------------\n",
      "Fold 3:\n",
      "Confusion Matrix:\n",
      "[[ 12 114]\n",
      " [  1 569]]\n",
      "Classification Report:\n",
      "              precision    recall  f1-score   support\n",
      "\n",
      "           0       0.92      0.10      0.17       126\n",
      "           1       0.83      1.00      0.91       570\n",
      "\n",
      "    accuracy                           0.83       696\n",
      "   macro avg       0.88      0.55      0.54       696\n",
      "weighted avg       0.85      0.83      0.78       696\n",
      "\n",
      "--------------------------------------------------\n",
      "Fold 4:\n",
      "Confusion Matrix:\n",
      "[[ 15  83]\n",
      " [  0 598]]\n",
      "Classification Report:\n",
      "              precision    recall  f1-score   support\n",
      "\n",
      "           0       1.00      0.15      0.27        98\n",
      "           1       0.88      1.00      0.94       598\n",
      "\n",
      "    accuracy                           0.88       696\n",
      "   macro avg       0.94      0.58      0.60       696\n",
      "weighted avg       0.90      0.88      0.84       696\n",
      "\n",
      "--------------------------------------------------\n",
      "Fold 5:\n",
      "Confusion Matrix:\n",
      "[[  8  86]\n",
      " [  1 601]]\n",
      "Classification Report:\n",
      "              precision    recall  f1-score   support\n",
      "\n",
      "           0       0.89      0.09      0.16        94\n",
      "           1       0.87      1.00      0.93       602\n",
      "\n",
      "    accuracy                           0.88       696\n",
      "   macro avg       0.88      0.54      0.54       696\n",
      "weighted avg       0.88      0.88      0.83       696\n",
      "\n",
      "--------------------------------------------------\n",
      "Fold 6:\n",
      "Confusion Matrix:\n",
      "[[  6 100]\n",
      " [  0 590]]\n",
      "Classification Report:\n",
      "              precision    recall  f1-score   support\n",
      "\n",
      "           0       1.00      0.06      0.11       106\n",
      "           1       0.86      1.00      0.92       590\n",
      "\n",
      "    accuracy                           0.86       696\n",
      "   macro avg       0.93      0.53      0.51       696\n",
      "weighted avg       0.88      0.86      0.80       696\n",
      "\n",
      "--------------------------------------------------\n",
      "Fold 7:\n",
      "Confusion Matrix:\n",
      "[[ 13  89]\n",
      " [  0 594]]\n",
      "Classification Report:\n",
      "              precision    recall  f1-score   support\n",
      "\n",
      "           0       1.00      0.13      0.23       102\n",
      "           1       0.87      1.00      0.93       594\n",
      "\n",
      "    accuracy                           0.87       696\n",
      "   macro avg       0.93      0.56      0.58       696\n",
      "weighted avg       0.89      0.87      0.83       696\n",
      "\n",
      "--------------------------------------------------\n",
      "Fold 8:\n",
      "Confusion Matrix:\n",
      "[[ 10  90]\n",
      " [  1 594]]\n",
      "Classification Report:\n",
      "              precision    recall  f1-score   support\n",
      "\n",
      "           0       0.91      0.10      0.18       100\n",
      "           1       0.87      1.00      0.93       595\n",
      "\n",
      "    accuracy                           0.87       695\n",
      "   macro avg       0.89      0.55      0.55       695\n",
      "weighted avg       0.87      0.87      0.82       695\n",
      "\n",
      "--------------------------------------------------\n",
      "Fold 9:\n",
      "Confusion Matrix:\n",
      "[[  9  87]\n",
      " [  0 599]]\n",
      "Classification Report:\n",
      "              precision    recall  f1-score   support\n",
      "\n",
      "           0       1.00      0.09      0.17        96\n",
      "           1       0.87      1.00      0.93       599\n",
      "\n",
      "    accuracy                           0.87       695\n",
      "   macro avg       0.94      0.55      0.55       695\n",
      "weighted avg       0.89      0.87      0.83       695\n",
      "\n",
      "--------------------------------------------------\n",
      "Fold 10:\n",
      "Confusion Matrix:\n",
      "[[  8 108]\n",
      " [  1 578]]\n",
      "Classification Report:\n",
      "              precision    recall  f1-score   support\n",
      "\n",
      "           0       0.89      0.07      0.13       116\n",
      "           1       0.84      1.00      0.91       579\n",
      "\n",
      "    accuracy                           0.84       695\n",
      "   macro avg       0.87      0.53      0.52       695\n",
      "weighted avg       0.85      0.84      0.78       695\n",
      "\n",
      "--------------------------------------------------\n"
     ]
    }
   ],
   "source": [
    "for i, (cm, cr) in enumerate(zip(confusion_matrices, classification_reports)):\n",
    "    print(f\"Fold {i+1}:\")\n",
    "    print(\"Confusion Matrix:\")\n",
    "    print(cm)\n",
    "    print(\"Classification Report:\")\n",
    "    print(cr)\n",
    "    print(\"-\" * 50)"
   ]
  },
  {
   "cell_type": "code",
   "execution_count": 11,
   "metadata": {},
   "outputs": [
    {
     "name": "stdout",
     "output_type": "stream",
     "text": [
      "Average Confusion Matrix:\n",
      "[[ 10.5  94.5]\n",
      " [  0.8 589.9]]\n",
      "Accary: 0.8431654676258993\n"
     ]
    }
   ],
   "source": [
    "import numpy as np\n",
    "average_cm = np.mean(confusion_matrices, axis=0)\n",
    "y_pred_all = cross_val_predict(model, X, y_true)\n",
    "average_cr = classification_report(y_true, y_pred_all)\n",
    "print(\"Average Confusion Matrix:\")\n",
    "print(average_cm)\n",
    "print('Accary:', (cm[1,1]+cm[0,0])/(cm[1,1]+cm[0,1]+cm[0,0]+cm[1,0]))"
   ]
  }
 ],
 "metadata": {
  "kernelspec": {
   "display_name": "base",
   "language": "python",
   "name": "python3"
  },
  "language_info": {
   "codemirror_mode": {
    "name": "ipython",
    "version": 3
   },
   "file_extension": ".py",
   "mimetype": "text/x-python",
   "name": "python",
   "nbconvert_exporter": "python",
   "pygments_lexer": "ipython3",
   "version": "3.11.4"
  },
  "orig_nbformat": 4
 },
 "nbformat": 4,
 "nbformat_minor": 2
}
