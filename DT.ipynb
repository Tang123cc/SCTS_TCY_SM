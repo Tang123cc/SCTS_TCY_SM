{
 "cells": [
  {
   "cell_type": "code",
   "execution_count": 1,
   "metadata": {},
   "outputs": [],
   "source": [
    "from sklearn.tree import DecisionTreeClassifier\n",
    "from sklearn.model_selection import cross_val_predict\n",
    "from sklearn.metrics import confusion_matrix, accuracy_score, precision_score, recall_score, f1_score\n",
    "from sklearn.model_selection import train_test_split"
   ]
  },
  {
   "cell_type": "code",
   "execution_count": 2,
   "metadata": {},
   "outputs": [],
   "source": [
    "import pandas as pd"
   ]
  },
  {
   "cell_type": "code",
   "execution_count": 3,
   "metadata": {},
   "outputs": [],
   "source": [
    "# data = pd.read_excel('path')\n",
    "data = pd.read_excel('GFA_Dataset.xlsx')"
   ]
  },
  {
   "cell_type": "code",
   "execution_count": 5,
   "metadata": {},
   "outputs": [],
   "source": [
    "X = data.drop('label', axis=1)\n",
    "y_true = data['label']\n",
    "X_train,X_test,y_train,y_test = train_test_split(X,y_true,test_size=0.10)"
   ]
  },
  {
   "cell_type": "code",
   "execution_count": 6,
   "metadata": {},
   "outputs": [
    {
     "name": "stdout",
     "output_type": "stream",
     "text": [
      "ccp_alpha: 0.0\n",
      "class_weight: None\n",
      "criterion: gini\n",
      "max_depth: None\n",
      "max_features: None\n",
      "max_leaf_nodes: None\n",
      "min_impurity_decrease: 0.0\n",
      "min_samples_leaf: 1\n",
      "min_samples_split: 2\n",
      "min_weight_fraction_leaf: 0.0\n",
      "random_state: None\n",
      "splitter: best\n"
     ]
    }
   ],
   "source": [
    "model = DecisionTreeClassifier()\n",
    "params = model.get_params()\n",
    "for param, value in params.items():\n",
    "    print(f\"{param}: {value}\")"
   ]
  },
  {
   "cell_type": "code",
   "execution_count": 8,
   "metadata": {},
   "outputs": [],
   "source": [
    "from sklearn.metrics import confusion_matrix, classification_report\n",
    "from sklearn.model_selection import train_test_split, cross_val_predict, KFold\n",
    "kf = KFold(n_splits=10, shuffle=True)\n",
    "confusion_matrices = []\n",
    "classification_reports = []"
   ]
  },
  {
   "cell_type": "code",
   "execution_count": 9,
   "metadata": {},
   "outputs": [],
   "source": [
    "for train_index, test_index in kf.split(X):\n",
    "    X_train, X_test = X.iloc[train_index], X.iloc[test_index]\n",
    "    y_train, y_test = y_true.iloc[train_index], y_true.iloc[test_index]\n",
    "\n",
    "    model.fit(X_train, y_train)\n",
    "\n",
    "    y_pred = model.predict(X_test)\n",
    "\n",
    "    cm = confusion_matrix(y_test, y_pred)\n",
    "    cr = classification_report(y_test, y_pred)\n",
    "\n",
    "    confusion_matrices.append(cm)\n",
    "    classification_reports.append(cr)"
   ]
  },
  {
   "cell_type": "code",
   "execution_count": 10,
   "metadata": {},
   "outputs": [
    {
     "name": "stdout",
     "output_type": "stream",
     "text": [
      "Fold 1:\n",
      "Confusion Matrix:\n",
      "[[ 70  31]\n",
      " [ 29 566]]\n",
      "Classification Report:\n",
      "              precision    recall  f1-score   support\n",
      "\n",
      "           0       0.71      0.69      0.70       101\n",
      "           1       0.95      0.95      0.95       595\n",
      "\n",
      "    accuracy                           0.91       696\n",
      "   macro avg       0.83      0.82      0.82       696\n",
      "weighted avg       0.91      0.91      0.91       696\n",
      "\n",
      "--------------------------------------------------\n",
      "Fold 2:\n",
      "Confusion Matrix:\n",
      "[[ 79  35]\n",
      " [ 35 547]]\n",
      "Classification Report:\n",
      "              precision    recall  f1-score   support\n",
      "\n",
      "           0       0.69      0.69      0.69       114\n",
      "           1       0.94      0.94      0.94       582\n",
      "\n",
      "    accuracy                           0.90       696\n",
      "   macro avg       0.82      0.82      0.82       696\n",
      "weighted avg       0.90      0.90      0.90       696\n",
      "\n",
      "--------------------------------------------------\n",
      "Fold 3:\n",
      "Confusion Matrix:\n",
      "[[ 73  30]\n",
      " [ 35 558]]\n",
      "Classification Report:\n",
      "              precision    recall  f1-score   support\n",
      "\n",
      "           0       0.68      0.71      0.69       103\n",
      "           1       0.95      0.94      0.94       593\n",
      "\n",
      "    accuracy                           0.91       696\n",
      "   macro avg       0.81      0.82      0.82       696\n",
      "weighted avg       0.91      0.91      0.91       696\n",
      "\n",
      "--------------------------------------------------\n",
      "Fold 4:\n",
      "Confusion Matrix:\n",
      "[[ 74  26]\n",
      " [ 30 566]]\n",
      "Classification Report:\n",
      "              precision    recall  f1-score   support\n",
      "\n",
      "           0       0.71      0.74      0.73       100\n",
      "           1       0.96      0.95      0.95       596\n",
      "\n",
      "    accuracy                           0.92       696\n",
      "   macro avg       0.83      0.84      0.84       696\n",
      "weighted avg       0.92      0.92      0.92       696\n",
      "\n",
      "--------------------------------------------------\n",
      "Fold 5:\n",
      "Confusion Matrix:\n",
      "[[ 64  36]\n",
      " [ 22 574]]\n",
      "Classification Report:\n",
      "              precision    recall  f1-score   support\n",
      "\n",
      "           0       0.74      0.64      0.69       100\n",
      "           1       0.94      0.96      0.95       596\n",
      "\n",
      "    accuracy                           0.92       696\n",
      "   macro avg       0.84      0.80      0.82       696\n",
      "weighted avg       0.91      0.92      0.91       696\n",
      "\n",
      "--------------------------------------------------\n",
      "Fold 6:\n",
      "Confusion Matrix:\n",
      "[[ 61  23]\n",
      " [ 39 573]]\n",
      "Classification Report:\n",
      "              precision    recall  f1-score   support\n",
      "\n",
      "           0       0.61      0.73      0.66        84\n",
      "           1       0.96      0.94      0.95       612\n",
      "\n",
      "    accuracy                           0.91       696\n",
      "   macro avg       0.79      0.83      0.81       696\n",
      "weighted avg       0.92      0.91      0.91       696\n",
      "\n",
      "--------------------------------------------------\n",
      "Fold 7:\n",
      "Confusion Matrix:\n",
      "[[ 68  32]\n",
      " [ 38 558]]\n",
      "Classification Report:\n",
      "              precision    recall  f1-score   support\n",
      "\n",
      "           0       0.64      0.68      0.66       100\n",
      "           1       0.95      0.94      0.94       596\n",
      "\n",
      "    accuracy                           0.90       696\n",
      "   macro avg       0.79      0.81      0.80       696\n",
      "weighted avg       0.90      0.90      0.90       696\n",
      "\n",
      "--------------------------------------------------\n",
      "Fold 8:\n",
      "Confusion Matrix:\n",
      "[[ 78  28]\n",
      " [ 22 567]]\n",
      "Classification Report:\n",
      "              precision    recall  f1-score   support\n",
      "\n",
      "           0       0.78      0.74      0.76       106\n",
      "           1       0.95      0.96      0.96       589\n",
      "\n",
      "    accuracy                           0.93       695\n",
      "   macro avg       0.87      0.85      0.86       695\n",
      "weighted avg       0.93      0.93      0.93       695\n",
      "\n",
      "--------------------------------------------------\n",
      "Fold 9:\n",
      "Confusion Matrix:\n",
      "[[ 85  31]\n",
      " [ 22 557]]\n",
      "Classification Report:\n",
      "              precision    recall  f1-score   support\n",
      "\n",
      "           0       0.79      0.73      0.76       116\n",
      "           1       0.95      0.96      0.95       579\n",
      "\n",
      "    accuracy                           0.92       695\n",
      "   macro avg       0.87      0.85      0.86       695\n",
      "weighted avg       0.92      0.92      0.92       695\n",
      "\n",
      "--------------------------------------------------\n",
      "Fold 10:\n",
      "Confusion Matrix:\n",
      "[[ 96  30]\n",
      " [ 32 537]]\n",
      "Classification Report:\n",
      "              precision    recall  f1-score   support\n",
      "\n",
      "           0       0.75      0.76      0.76       126\n",
      "           1       0.95      0.94      0.95       569\n",
      "\n",
      "    accuracy                           0.91       695\n",
      "   macro avg       0.85      0.85      0.85       695\n",
      "weighted avg       0.91      0.91      0.91       695\n",
      "\n",
      "--------------------------------------------------\n"
     ]
    }
   ],
   "source": [
    "for i, (cm, cr) in enumerate(zip(confusion_matrices, classification_reports)):\n",
    "    print(f\"Fold {i+1}:\")\n",
    "    print(\"Confusion Matrix:\")\n",
    "    print(cm)\n",
    "    print(\"Classification Report:\")\n",
    "    print(cr)\n",
    "    print(\"-\" * 50)"
   ]
  },
  {
   "cell_type": "code",
   "execution_count": 11,
   "metadata": {},
   "outputs": [
    {
     "name": "stdout",
     "output_type": "stream",
     "text": [
      "Average Confusion Matrix:\n",
      "[[ 74.8  30.2]\n",
      " [ 30.4 560.3]]\n",
      "Accary: 0.9107913669064748\n"
     ]
    }
   ],
   "source": [
    "import numpy as np\n",
    "average_cm = np.mean(confusion_matrices, axis=0)\n",
    "y_pred_all = cross_val_predict(model, X, y_true)\n",
    "average_cr = classification_report(y_true, y_pred_all)\n",
    "print(\"Average Confusion Matrix:\")\n",
    "print(average_cm)\n",
    "print('Accary:', (cm[1,1]+cm[0,0])/(cm[1,1]+cm[0,1]+cm[0,0]+cm[1,0]))"
   ]
  }
 ],
 "metadata": {
  "kernelspec": {
   "display_name": "base",
   "language": "python",
   "name": "python3"
  },
  "language_info": {
   "codemirror_mode": {
    "name": "ipython",
    "version": 3
   },
   "file_extension": ".py",
   "mimetype": "text/x-python",
   "name": "python",
   "nbconvert_exporter": "python",
   "pygments_lexer": "ipython3",
   "version": "3.11.4"
  },
  "orig_nbformat": 4
 },
 "nbformat": 4,
 "nbformat_minor": 2
}

